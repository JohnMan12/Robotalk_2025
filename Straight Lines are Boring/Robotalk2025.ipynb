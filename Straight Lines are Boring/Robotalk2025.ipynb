{
  "nbformat": 4,
  "nbformat_minor": 0,
  "metadata": {
    "colab": {
      "provenance": []
    },
    "kernelspec": {
      "name": "python3",
      "display_name": "Python 3"
    },
    "language_info": {
      "name": "python"
    }
  },
  "cells": [
    {
      "cell_type": "markdown",
      "source": [
        "# **ROBOTALK 2025**\n",
        "\n",
        "## STRAIGHT LINES ARE BORING, LET'S USE CLOTHOIDS\n",
        "\n",
        "-------------------------------------------------"
      ],
      "metadata": {
        "id": "7Kb3O5iDu-R-"
      }
    },
    {
      "cell_type": "markdown",
      "source": [
        "Οι απαιτούμενες βιβλιοθήκες για το συγκεκριμένο workshop είναι οι εξής:"
      ],
      "metadata": {
        "id": "VLrj9UVkvBtZ"
      }
    },
    {
      "cell_type": "code",
      "source": [
        "!pip3 install networkx\n",
        "!pip3 install matplotlib\n",
        "!pip3 install ipywidgets\n",
        "!pip3 install pyclothoids"
      ],
      "metadata": {
        "collapsed": true,
        "id": "5d6I2fsZvDWJ",
        "colab": {
          "base_uri": "https://localhost:8080/"
        },
        "outputId": "fb34225b-c34d-4df7-a41c-79c7e5856c16"
      },
      "execution_count": null,
      "outputs": [
        {
          "output_type": "stream",
          "name": "stdout",
          "text": [
            "Requirement already satisfied: networkx in /usr/local/lib/python3.11/dist-packages (3.4.2)\n",
            "Requirement already satisfied: matplotlib in /usr/local/lib/python3.11/dist-packages (3.10.0)\n",
            "Requirement already satisfied: contourpy>=1.0.1 in /usr/local/lib/python3.11/dist-packages (from matplotlib) (1.3.1)\n",
            "Requirement already satisfied: cycler>=0.10 in /usr/local/lib/python3.11/dist-packages (from matplotlib) (0.12.1)\n",
            "Requirement already satisfied: fonttools>=4.22.0 in /usr/local/lib/python3.11/dist-packages (from matplotlib) (4.56.0)\n",
            "Requirement already satisfied: kiwisolver>=1.3.1 in /usr/local/lib/python3.11/dist-packages (from matplotlib) (1.4.8)\n",
            "Requirement already satisfied: numpy>=1.23 in /usr/local/lib/python3.11/dist-packages (from matplotlib) (2.0.2)\n",
            "Requirement already satisfied: packaging>=20.0 in /usr/local/lib/python3.11/dist-packages (from matplotlib) (24.2)\n",
            "Requirement already satisfied: pillow>=8 in /usr/local/lib/python3.11/dist-packages (from matplotlib) (11.1.0)\n",
            "Requirement already satisfied: pyparsing>=2.3.1 in /usr/local/lib/python3.11/dist-packages (from matplotlib) (3.2.3)\n",
            "Requirement already satisfied: python-dateutil>=2.7 in /usr/local/lib/python3.11/dist-packages (from matplotlib) (2.8.2)\n",
            "Requirement already satisfied: six>=1.5 in /usr/local/lib/python3.11/dist-packages (from python-dateutil>=2.7->matplotlib) (1.17.0)\n",
            "Requirement already satisfied: ipywidgets in /usr/local/lib/python3.11/dist-packages (7.7.1)\n",
            "Requirement already satisfied: ipykernel>=4.5.1 in /usr/local/lib/python3.11/dist-packages (from ipywidgets) (6.17.1)\n",
            "Requirement already satisfied: ipython-genutils~=0.2.0 in /usr/local/lib/python3.11/dist-packages (from ipywidgets) (0.2.0)\n",
            "Requirement already satisfied: traitlets>=4.3.1 in /usr/local/lib/python3.11/dist-packages (from ipywidgets) (5.7.1)\n",
            "Requirement already satisfied: widgetsnbextension~=3.6.0 in /usr/local/lib/python3.11/dist-packages (from ipywidgets) (3.6.10)\n",
            "Requirement already satisfied: ipython>=4.0.0 in /usr/local/lib/python3.11/dist-packages (from ipywidgets) (7.34.0)\n",
            "Requirement already satisfied: jupyterlab-widgets>=1.0.0 in /usr/local/lib/python3.11/dist-packages (from ipywidgets) (3.0.13)\n",
            "Requirement already satisfied: debugpy>=1.0 in /usr/local/lib/python3.11/dist-packages (from ipykernel>=4.5.1->ipywidgets) (1.8.0)\n",
            "Requirement already satisfied: jupyter-client>=6.1.12 in /usr/local/lib/python3.11/dist-packages (from ipykernel>=4.5.1->ipywidgets) (6.1.12)\n",
            "Requirement already satisfied: matplotlib-inline>=0.1 in /usr/local/lib/python3.11/dist-packages (from ipykernel>=4.5.1->ipywidgets) (0.1.7)\n",
            "Requirement already satisfied: nest-asyncio in /usr/local/lib/python3.11/dist-packages (from ipykernel>=4.5.1->ipywidgets) (1.6.0)\n",
            "Requirement already satisfied: packaging in /usr/local/lib/python3.11/dist-packages (from ipykernel>=4.5.1->ipywidgets) (24.2)\n",
            "Requirement already satisfied: psutil in /usr/local/lib/python3.11/dist-packages (from ipykernel>=4.5.1->ipywidgets) (5.9.5)\n",
            "Requirement already satisfied: pyzmq>=17 in /usr/local/lib/python3.11/dist-packages (from ipykernel>=4.5.1->ipywidgets) (24.0.1)\n",
            "Requirement already satisfied: tornado>=6.1 in /usr/local/lib/python3.11/dist-packages (from ipykernel>=4.5.1->ipywidgets) (6.4.2)\n",
            "Requirement already satisfied: setuptools>=18.5 in /usr/local/lib/python3.11/dist-packages (from ipython>=4.0.0->ipywidgets) (75.2.0)\n",
            "Collecting jedi>=0.16 (from ipython>=4.0.0->ipywidgets)\n",
            "  Downloading jedi-0.19.2-py2.py3-none-any.whl.metadata (22 kB)\n",
            "Requirement already satisfied: decorator in /usr/local/lib/python3.11/dist-packages (from ipython>=4.0.0->ipywidgets) (4.4.2)\n",
            "Requirement already satisfied: pickleshare in /usr/local/lib/python3.11/dist-packages (from ipython>=4.0.0->ipywidgets) (0.7.5)\n",
            "Requirement already satisfied: prompt-toolkit!=3.0.0,!=3.0.1,<3.1.0,>=2.0.0 in /usr/local/lib/python3.11/dist-packages (from ipython>=4.0.0->ipywidgets) (3.0.50)\n",
            "Requirement already satisfied: pygments in /usr/local/lib/python3.11/dist-packages (from ipython>=4.0.0->ipywidgets) (2.18.0)\n",
            "Requirement already satisfied: backcall in /usr/local/lib/python3.11/dist-packages (from ipython>=4.0.0->ipywidgets) (0.2.0)\n",
            "Requirement already satisfied: pexpect>4.3 in /usr/local/lib/python3.11/dist-packages (from ipython>=4.0.0->ipywidgets) (4.9.0)\n",
            "Requirement already satisfied: notebook>=4.4.1 in /usr/local/lib/python3.11/dist-packages (from widgetsnbextension~=3.6.0->ipywidgets) (6.5.7)\n",
            "Requirement already satisfied: parso<0.9.0,>=0.8.4 in /usr/local/lib/python3.11/dist-packages (from jedi>=0.16->ipython>=4.0.0->ipywidgets) (0.8.4)\n",
            "Requirement already satisfied: jupyter-core>=4.6.0 in /usr/local/lib/python3.11/dist-packages (from jupyter-client>=6.1.12->ipykernel>=4.5.1->ipywidgets) (5.7.2)\n",
            "Requirement already satisfied: python-dateutil>=2.1 in /usr/local/lib/python3.11/dist-packages (from jupyter-client>=6.1.12->ipykernel>=4.5.1->ipywidgets) (2.8.2)\n",
            "Requirement already satisfied: jinja2 in /usr/local/lib/python3.11/dist-packages (from notebook>=4.4.1->widgetsnbextension~=3.6.0->ipywidgets) (3.1.6)\n",
            "Requirement already satisfied: argon2-cffi in /usr/local/lib/python3.11/dist-packages (from notebook>=4.4.1->widgetsnbextension~=3.6.0->ipywidgets) (23.1.0)\n",
            "Requirement already satisfied: nbformat in /usr/local/lib/python3.11/dist-packages (from notebook>=4.4.1->widgetsnbextension~=3.6.0->ipywidgets) (5.10.4)\n",
            "Requirement already satisfied: nbconvert>=5 in /usr/local/lib/python3.11/dist-packages (from notebook>=4.4.1->widgetsnbextension~=3.6.0->ipywidgets) (7.16.6)\n",
            "Requirement already satisfied: Send2Trash>=1.8.0 in /usr/local/lib/python3.11/dist-packages (from notebook>=4.4.1->widgetsnbextension~=3.6.0->ipywidgets) (1.8.3)\n",
            "Requirement already satisfied: terminado>=0.8.3 in /usr/local/lib/python3.11/dist-packages (from notebook>=4.4.1->widgetsnbextension~=3.6.0->ipywidgets) (0.18.1)\n",
            "Requirement already satisfied: prometheus-client in /usr/local/lib/python3.11/dist-packages (from notebook>=4.4.1->widgetsnbextension~=3.6.0->ipywidgets) (0.21.1)\n",
            "Requirement already satisfied: nbclassic>=0.4.7 in /usr/local/lib/python3.11/dist-packages (from notebook>=4.4.1->widgetsnbextension~=3.6.0->ipywidgets) (1.2.0)\n",
            "Requirement already satisfied: ptyprocess>=0.5 in /usr/local/lib/python3.11/dist-packages (from pexpect>4.3->ipython>=4.0.0->ipywidgets) (0.7.0)\n",
            "Requirement already satisfied: wcwidth in /usr/local/lib/python3.11/dist-packages (from prompt-toolkit!=3.0.0,!=3.0.1,<3.1.0,>=2.0.0->ipython>=4.0.0->ipywidgets) (0.2.13)\n",
            "Requirement already satisfied: platformdirs>=2.5 in /usr/local/lib/python3.11/dist-packages (from jupyter-core>=4.6.0->jupyter-client>=6.1.12->ipykernel>=4.5.1->ipywidgets) (4.3.7)\n",
            "Requirement already satisfied: notebook-shim>=0.2.3 in /usr/local/lib/python3.11/dist-packages (from nbclassic>=0.4.7->notebook>=4.4.1->widgetsnbextension~=3.6.0->ipywidgets) (0.2.4)\n",
            "Requirement already satisfied: beautifulsoup4 in /usr/local/lib/python3.11/dist-packages (from nbconvert>=5->notebook>=4.4.1->widgetsnbextension~=3.6.0->ipywidgets) (4.13.3)\n",
            "Requirement already satisfied: bleach!=5.0.0 in /usr/local/lib/python3.11/dist-packages (from bleach[css]!=5.0.0->nbconvert>=5->notebook>=4.4.1->widgetsnbextension~=3.6.0->ipywidgets) (6.2.0)\n",
            "Requirement already satisfied: defusedxml in /usr/local/lib/python3.11/dist-packages (from nbconvert>=5->notebook>=4.4.1->widgetsnbextension~=3.6.0->ipywidgets) (0.7.1)\n",
            "Requirement already satisfied: jupyterlab-pygments in /usr/local/lib/python3.11/dist-packages (from nbconvert>=5->notebook>=4.4.1->widgetsnbextension~=3.6.0->ipywidgets) (0.3.0)\n",
            "Requirement already satisfied: markupsafe>=2.0 in /usr/local/lib/python3.11/dist-packages (from nbconvert>=5->notebook>=4.4.1->widgetsnbextension~=3.6.0->ipywidgets) (3.0.2)\n",
            "Requirement already satisfied: mistune<4,>=2.0.3 in /usr/local/lib/python3.11/dist-packages (from nbconvert>=5->notebook>=4.4.1->widgetsnbextension~=3.6.0->ipywidgets) (3.1.3)\n",
            "Requirement already satisfied: nbclient>=0.5.0 in /usr/local/lib/python3.11/dist-packages (from nbconvert>=5->notebook>=4.4.1->widgetsnbextension~=3.6.0->ipywidgets) (0.10.2)\n",
            "Requirement already satisfied: pandocfilters>=1.4.1 in /usr/local/lib/python3.11/dist-packages (from nbconvert>=5->notebook>=4.4.1->widgetsnbextension~=3.6.0->ipywidgets) (1.5.1)\n",
            "Requirement already satisfied: fastjsonschema>=2.15 in /usr/local/lib/python3.11/dist-packages (from nbformat->notebook>=4.4.1->widgetsnbextension~=3.6.0->ipywidgets) (2.21.1)\n",
            "Requirement already satisfied: jsonschema>=2.6 in /usr/local/lib/python3.11/dist-packages (from nbformat->notebook>=4.4.1->widgetsnbextension~=3.6.0->ipywidgets) (4.23.0)\n",
            "Requirement already satisfied: six>=1.5 in /usr/local/lib/python3.11/dist-packages (from python-dateutil>=2.1->jupyter-client>=6.1.12->ipykernel>=4.5.1->ipywidgets) (1.17.0)\n",
            "Requirement already satisfied: argon2-cffi-bindings in /usr/local/lib/python3.11/dist-packages (from argon2-cffi->notebook>=4.4.1->widgetsnbextension~=3.6.0->ipywidgets) (21.2.0)\n",
            "Requirement already satisfied: webencodings in /usr/local/lib/python3.11/dist-packages (from bleach!=5.0.0->bleach[css]!=5.0.0->nbconvert>=5->notebook>=4.4.1->widgetsnbextension~=3.6.0->ipywidgets) (0.5.1)\n",
            "Requirement already satisfied: tinycss2<1.5,>=1.1.0 in /usr/local/lib/python3.11/dist-packages (from bleach[css]!=5.0.0->nbconvert>=5->notebook>=4.4.1->widgetsnbextension~=3.6.0->ipywidgets) (1.4.0)\n",
            "Requirement already satisfied: attrs>=22.2.0 in /usr/local/lib/python3.11/dist-packages (from jsonschema>=2.6->nbformat->notebook>=4.4.1->widgetsnbextension~=3.6.0->ipywidgets) (25.3.0)\n",
            "Requirement already satisfied: jsonschema-specifications>=2023.03.6 in /usr/local/lib/python3.11/dist-packages (from jsonschema>=2.6->nbformat->notebook>=4.4.1->widgetsnbextension~=3.6.0->ipywidgets) (2024.10.1)\n",
            "Requirement already satisfied: referencing>=0.28.4 in /usr/local/lib/python3.11/dist-packages (from jsonschema>=2.6->nbformat->notebook>=4.4.1->widgetsnbextension~=3.6.0->ipywidgets) (0.36.2)\n",
            "Requirement already satisfied: rpds-py>=0.7.1 in /usr/local/lib/python3.11/dist-packages (from jsonschema>=2.6->nbformat->notebook>=4.4.1->widgetsnbextension~=3.6.0->ipywidgets) (0.24.0)\n",
            "Requirement already satisfied: jupyter-server<3,>=1.8 in /usr/local/lib/python3.11/dist-packages (from notebook-shim>=0.2.3->nbclassic>=0.4.7->notebook>=4.4.1->widgetsnbextension~=3.6.0->ipywidgets) (1.16.0)\n",
            "Requirement already satisfied: cffi>=1.0.1 in /usr/local/lib/python3.11/dist-packages (from argon2-cffi-bindings->argon2-cffi->notebook>=4.4.1->widgetsnbextension~=3.6.0->ipywidgets) (1.17.1)\n",
            "Requirement already satisfied: soupsieve>1.2 in /usr/local/lib/python3.11/dist-packages (from beautifulsoup4->nbconvert>=5->notebook>=4.4.1->widgetsnbextension~=3.6.0->ipywidgets) (2.6)\n",
            "Requirement already satisfied: typing-extensions>=4.0.0 in /usr/local/lib/python3.11/dist-packages (from beautifulsoup4->nbconvert>=5->notebook>=4.4.1->widgetsnbextension~=3.6.0->ipywidgets) (4.13.0)\n",
            "Requirement already satisfied: pycparser in /usr/local/lib/python3.11/dist-packages (from cffi>=1.0.1->argon2-cffi-bindings->argon2-cffi->notebook>=4.4.1->widgetsnbextension~=3.6.0->ipywidgets) (2.22)\n",
            "Requirement already satisfied: anyio>=3.1.0 in /usr/local/lib/python3.11/dist-packages (from jupyter-server<3,>=1.8->notebook-shim>=0.2.3->nbclassic>=0.4.7->notebook>=4.4.1->widgetsnbextension~=3.6.0->ipywidgets) (4.9.0)\n",
            "Requirement already satisfied: websocket-client in /usr/local/lib/python3.11/dist-packages (from jupyter-server<3,>=1.8->notebook-shim>=0.2.3->nbclassic>=0.4.7->notebook>=4.4.1->widgetsnbextension~=3.6.0->ipywidgets) (1.8.0)\n",
            "Requirement already satisfied: idna>=2.8 in /usr/local/lib/python3.11/dist-packages (from anyio>=3.1.0->jupyter-server<3,>=1.8->notebook-shim>=0.2.3->nbclassic>=0.4.7->notebook>=4.4.1->widgetsnbextension~=3.6.0->ipywidgets) (3.10)\n",
            "Requirement already satisfied: sniffio>=1.1 in /usr/local/lib/python3.11/dist-packages (from anyio>=3.1.0->jupyter-server<3,>=1.8->notebook-shim>=0.2.3->nbclassic>=0.4.7->notebook>=4.4.1->widgetsnbextension~=3.6.0->ipywidgets) (1.3.1)\n",
            "Downloading jedi-0.19.2-py2.py3-none-any.whl (1.6 MB)\n",
            "\u001b[2K   \u001b[90m━━━━━━━━━━━━━━━━━━━━━━━━━━━━━━━━━━━━━━━━\u001b[0m \u001b[32m1.6/1.6 MB\u001b[0m \u001b[31m47.8 MB/s\u001b[0m eta \u001b[36m0:00:00\u001b[0m\n",
            "\u001b[?25hInstalling collected packages: jedi\n",
            "Successfully installed jedi-0.19.2\n",
            "Collecting pyclothoids\n",
            "  Downloading pyclothoids-0.1.5-cp311-cp311-manylinux_2_17_x86_64.manylinux2014_x86_64.whl.metadata (2.3 kB)\n",
            "Collecting pybind11>=2.4 (from pyclothoids)\n",
            "  Downloading pybind11-2.13.6-py3-none-any.whl.metadata (9.5 kB)\n",
            "Downloading pyclothoids-0.1.5-cp311-cp311-manylinux_2_17_x86_64.manylinux2014_x86_64.whl (3.6 MB)\n",
            "\u001b[2K   \u001b[90m━━━━━━━━━━━━━━━━━━━━━━━━━━━━━━━━━━━━━━━━\u001b[0m \u001b[32m3.6/3.6 MB\u001b[0m \u001b[31m70.1 MB/s\u001b[0m eta \u001b[36m0:00:00\u001b[0m\n",
            "\u001b[?25hDownloading pybind11-2.13.6-py3-none-any.whl (243 kB)\n",
            "\u001b[2K   \u001b[90m━━━━━━━━━━━━━━━━━━━━━━━━━━━━━━━━━━━━━━━━\u001b[0m \u001b[32m243.3/243.3 kB\u001b[0m \u001b[31m18.3 MB/s\u001b[0m eta \u001b[36m0:00:00\u001b[0m\n",
            "\u001b[?25hInstalling collected packages: pybind11, pyclothoids\n",
            "Successfully installed pybind11-2.13.6 pyclothoids-0.1.5\n"
          ]
        }
      ]
    },
    {
      "cell_type": "markdown",
      "source": [
        "Αφού κατεβάσαμε τις απαιτούμενες βιβλιοθήκες θα τις κάνουμε $\\text{import}$:"
      ],
      "metadata": {
        "id": "LMCqouRnvQ_i"
      }
    },
    {
      "cell_type": "code",
      "source": [
        "import networkx as nx\n",
        "from collections import deque\n",
        "import matplotlib.pyplot as plt\n",
        "from google.colab import output\n",
        "import ipywidgets as widgets\n",
        "from IPython.display import display, clear_output\n",
        "from matplotlib import rcParams\n",
        "import matplotlib.pyplot as plt\n",
        "import matplotlib.cm as cm\n",
        "import numpy as np\n",
        "from pyclothoids import Clothoid, SolveG2\n",
        "import math\n",
        "from types import DynamicClassAttribute\n",
        "import cv2\n",
        "from google.colab.patches import cv2_imshow"
      ],
      "metadata": {
        "id": "AIGVLOYVvTKX"
      },
      "execution_count": null,
      "outputs": []
    },
    {
      "cell_type": "code",
      "source": [
        "# Global variables to share data between cells\n",
        "G = None\n",
        "positions = None\n",
        "start_node = None\n",
        "target_nodes = None\n",
        "fpath = None"
      ],
      "metadata": {
        "id": "SFUl2Ic5k9lZ"
      },
      "execution_count": null,
      "outputs": []
    },
    {
      "cell_type": "markdown",
      "source": [
        "## The Track\n",
        "\n",
        "-------------------------------------------------"
      ],
      "metadata": {
        "id": "A64Pcd92uPmK"
      }
    },
    {
      "cell_type": "markdown",
      "source": [
        "Στη συνέχεια, θα φορτώσουμε τον γράφο μας και θα εξαγάγουμε τις αναγκαίες πληροφορίες του με τη βοήθεια της βιβλιοθήκης $networkx$:"
      ],
      "metadata": {
        "id": "R9CMcuWQL5d5"
      }
    },
    {
      "cell_type": "code",
      "source": [
        "def load_and_display_graph(graphml_file):\n",
        "    \"\"\"\n",
        "    Load and display a graph from a GraphML file\n",
        "    \"\"\"\n",
        "    # Load the graph\n",
        "    global G, positions\n",
        "    G = nx.read_graphml(graphml_file)\n",
        "\n",
        "    # Get node positions from graph data\n",
        "    positions = {\n",
        "        node: (float(G.nodes[node]['x']), float(G.nodes[node]['y']))\n",
        "        for node in G.nodes()\n",
        "    }\n",
        "    return G, positions\n"
      ],
      "metadata": {
        "id": "QSgw46nMvXaB"
      },
      "execution_count": null,
      "outputs": []
    },
    {
      "cell_type": "markdown",
      "source": [
        "Αν τώρα θέλουμε να εμφανίσουμε το γράφο μπορούμε απλά να τρέξουμε:"
      ],
      "metadata": {
        "id": "QfeT22ObvZxZ"
      }
    },
    {
      "cell_type": "code",
      "source": [
        "G, positions = load_and_display_graph(\"Lab_track_graph.graphml\")\n",
        "\n",
        "# Create the plot\n",
        "plt.figure(figsize=(12, 8))\n",
        "\n",
        "# Draw the graph\n",
        "nx.draw(G,\n",
        "        pos = positions,\n",
        "        with_labels = True,  # Show node labels\n",
        "        node_color = 'lightblue',\n",
        "        node_size = 500,\n",
        "        font_size = 10,\n",
        "        edge_color = 'gray')\n",
        "\n",
        "plt.title(\"Track Graph Visualization\", fontsize = 18)\n",
        "plt.axis('equal')  # Equal aspect ratio\n",
        "plt.grid(True)\n",
        "plt.show()"
      ],
      "metadata": {
        "id": "UKkwHvv-vbcw"
      },
      "execution_count": null,
      "outputs": []
    },
    {
      "cell_type": "markdown",
      "source": [
        "Η συγκεκριμένη πίστα στην πραγματική ζωή είναι η παρακάτω:"
      ],
      "metadata": {
        "id": "t4P6SCFVYNek"
      }
    },
    {
      "cell_type": "code",
      "source": [
        "image = cv2.imread('lab_track.jpeg')  # Replace with your image file\n",
        "cv2_imshow(image)"
      ],
      "metadata": {
        "id": "4Q9myyEbcMwl"
      },
      "execution_count": null,
      "outputs": []
    },
    {
      "cell_type": "markdown",
      "source": [
        "## Path Finding\n",
        "-------------------------------------------------"
      ],
      "metadata": {
        "id": "dwSaYG07ufxY"
      }
    },
    {
      "cell_type": "markdown",
      "source": [
        "Αφού φορτώσαμε επιτυχώς το γράφο, είμαστε έτοιμοι να εφαρμόσουμε τον $BFS$ αλγοριθμό μας ώστε να βρούμε το βέλτιστο μονοπάτι το οποίο ξεκινάει από την αφετηρία μας και περνάει από όλους τους $target$ κόμβους που έχουμε ορίσει.\\\n",
        "***Προσοχή:*** Επειδή ο γράφος μας είναι κατευθυνόμενος, υπάρχουν συνδυασμοί κόμβων που δεν μπορούμε να τοποθετήσουμε ως $target$ $nodes$. Σε αυτή την περίπτωση η διαδρομή μας πάλι θα σχεδιαστεί, απλά θα \"πετάξει\" κάποιους από τους προορισμούς μας εκτός εμφανίζοντας το αντίστοιχο μήνυμα.\\\n",
        "Ο BFS που γνωρίζουμε ωστόσο δεν επαρκεί για την εύρεση διαδρομής μέσω πολλαπλών στόχων.\\\n",
        "Αυτό που θα κάνουμε είναι μια παραλλαγή του:\n",
        "* Σε κάθε βήμα, ο κύριος βρόχος τρέχει $BFS$ για κάθε εναπομείναντα στόχο, επιλέγοντας πάντα αυτόν με τη συντομότερη διαδρομή από τον τρέχοντα κόμβο.\n",
        "\n",
        "(Προφανώς αυτή η προσέγγιση δεν είναι η βέλτιστη για το συγκεκριμένο πρόβλημα. Για έναν μικρό στατικό γράφο θα μπορούσαμε να υπολογίσουμε τις βέλτιστες διαδρομές από κάθε κόμβο προς κάθε άλλο με τον αλγόριθμο $Floyd-Warshall$, $Ο(n^3)$ και να τις αποθηκεύσουμε σε έναν μνημονικό πίνακα. Αλλιώς, μια υλοποίηση πιο κοντά στην παρούσα είναι η αντικατάσταση του $BFS$ με τον αλγόριθμο $Dijkstra$ με πολυπλοκότητα $Ο(m*n^2)$), όπου m ο αριθμός των κόμβων-στόχων."
      ],
      "metadata": {
        "id": "zjLIP6hrvdoC"
      }
    },
    {
      "cell_type": "code",
      "source": [
        "def find_path_through_nodes(G, start_node, target_nodes):\n",
        "    \"\"\"\n",
        "    Find a path that visits all target nodes using BFS\n",
        "    \"\"\"\n",
        "    def bfs_to_target(current_node, target):\n",
        "        \"\"\"Find shortest path between two nodes using BFS\"\"\"\n",
        "        queue = deque([(current_node, [current_node])])\n",
        "        visited = set([current_node])\n",
        "\n",
        "        while queue:\n",
        "            node, path = queue.popleft()\n",
        "\n",
        "            # Check neighbors\n",
        "            for next_node in G.neighbors(str(node)):\n",
        "                next_node = int(next_node)\n",
        "                if next_node not in visited:\n",
        "                    new_path = path + [next_node]\n",
        "                    if next_node == target:\n",
        "                        return new_path\n",
        "                    visited.add(next_node)\n",
        "                    queue.append((next_node, new_path))\n",
        "        return None\n",
        "\n",
        "    # Convert nodes to integers for easier handling\n",
        "    target_nodes = [int(n) for n in target_nodes]\n",
        "    start_node = int(start_node)\n",
        "\n",
        "    # Initialize the final path with the start node\n",
        "    final_path = [start_node]\n",
        "    current_node = start_node\n",
        "\n",
        "    # Find path to each target node in sequence\n",
        "    remaining_targets = target_nodes.copy()\n",
        "\n",
        "    while remaining_targets:\n",
        "        # Find the closest remaining target\n",
        "        best_path = None\n",
        "        best_target = None\n",
        "\n",
        "        for target in remaining_targets:\n",
        "            path = bfs_to_target(current_node, target)\n",
        "            if path and (best_path is None or len(path) < len(best_path)):\n",
        "                best_path = path\n",
        "                best_target = target\n",
        "\n",
        "        # If we cannot reach any remaining target, we leave the node out of the path\n",
        "        if best_path is None:\n",
        "            print(f\"Cannot reach remaining targets: {remaining_targets}\")\n",
        "            break\n",
        "\n",
        "        # Add the path (excluding the start node which is already included)\n",
        "        final_path.extend(best_path[1:])\n",
        "        current_node = best_target # Change the starting node as we moved on\n",
        "        remaining_targets.remove(best_target)\n",
        "\n",
        "    global fpath\n",
        "    fpath = final_path\n",
        "\n",
        "    return final_path"
      ],
      "metadata": {
        "id": "35fdgWSAvfI5"
      },
      "execution_count": null,
      "outputs": []
    },
    {
      "cell_type": "markdown",
      "source": [
        "Ο παρακάτω κώδικας εμφανίζει το τελικό μονοπάτι που θα ακολουθήσουμε. Για την οπτικοποίηση του υπάρχουν δύο κουμπία:\n",
        "* Πατώντας το $\\text{next node}$, εμφανίζουμε βήμα βήμα το δρόμο που θα ακολουθήσουμε.\n",
        "* Ενώ το δεξί κουμπί μας δείχνει απευθείας το τελικό μονοπάτι."
      ],
      "metadata": {
        "id": "ye32CYVNvhID"
      }
    },
    {
      "cell_type": "code",
      "source": [
        "def plot_interactive(nodes_to_pass_through):\n",
        "    # Set figure size\n",
        "    rcParams['figure.figsize'] = (12, 8)\n",
        "\n",
        "    # Convert node IDs to strings since NetworkX uses string identifiers\n",
        "    nodes_to_pass_through_str = [str(node) for node in nodes_to_pass_through]\n",
        "\n",
        "    # Define equivalent nodes and overlapping edges\n",
        "    equivalent_nodes_map = {\"3\": [\"50\", \"79\"], \"50\": [\"3\", \"79\"], \"79\": [\"3\", \"50\"]}\n",
        "    overlapping_edges = {\n",
        "        \"78\": [\"79\", \"50\"],\n",
        "        \"80\": [\"50\", \"3\"],\n",
        "        \"4\": [\"79\", \"3\"]\n",
        "    }\n",
        "\n",
        "    # Extend the path to include equivalent nodes immediately after the original node\n",
        "    extended_path = []\n",
        "    for node in nodes_to_pass_through_str:\n",
        "        extended_path.append(node)\n",
        "        if node in equivalent_nodes_map:\n",
        "            extended_path.extend(equivalent_nodes_map[node])  # Add equivalent nodes\n",
        "\n",
        "    # Use the global graph and positions\n",
        "    global G, positions\n",
        "    node_positions = positions\n",
        "    # Start with the first node highlighted\n",
        "    current_path_index = 0\n",
        "    current_path = [extended_path[0]]\n",
        "    current_edges = []\n",
        "\n",
        "    def draw_graph(highlighted_nodes, highlighted_edges):\n",
        "        # Clear previous plots\n",
        "        plt.close('all')\n",
        "\n",
        "        # Create new figure with compact layout\n",
        "        fig = plt.figure(figsize=(12, 8))\n",
        "        ax = fig.add_subplot(111)\n",
        "        ax.axis(\"equal\")\n",
        "\n",
        "        # Set node colors\n",
        "        node_colors = ['green' if node in highlighted_nodes else 'skyblue' for node in G.nodes()]\n",
        "\n",
        "        # Set edge colors\n",
        "        edge_colors = []\n",
        "        for edge in G.edges():\n",
        "            if edge in highlighted_edges or tuple(reversed(edge)) in highlighted_edges:\n",
        "                edge_colors.append('green')\n",
        "            else:\n",
        "                edge_colors.append('black')\n",
        "\n",
        "        # Draw graph\n",
        "        nx.draw(G, pos=node_positions, ax=ax, with_labels=True, node_color=node_colors,\n",
        "                node_size=500, edge_color=edge_colors, width=2, linewidths=1, font_size=10)\n",
        "\n",
        "        plt.title(f\"Path Progress: {len(current_path)}/{len(extended_path)} nodes\", fontsize=14, pad=10)\n",
        "\n",
        "        plt.subplots_adjust(left=0.05, right=0.95, top=0.95, bottom=0.05)\n",
        "\n",
        "        plt.show()\n",
        "\n",
        "        display_widgets()\n",
        "\n",
        "    def display_widgets():\n",
        "        # Create centered container for buttons with minimal margin\n",
        "        center_box = widgets.Box([button_container], layout=widgets.Layout(\n",
        "            display='flex',\n",
        "            flex_flow='row',\n",
        "            align_items='center',\n",
        "            justify_content='center',\n",
        "            width='100%',\n",
        "            margin='0px'\n",
        "        ))\n",
        "        display(center_box)\n",
        "\n",
        "    def next_step(b):\n",
        "        nonlocal current_path, current_edges, current_path_index\n",
        "\n",
        "        if current_path_index < len(extended_path) - 1:\n",
        "            current_path_index += 1\n",
        "            next_node = extended_path[current_path_index]\n",
        "\n",
        "            # Add the edge from the last node to the next node (if applicable)\n",
        "            if len(current_path) > 0:\n",
        "                last_node = current_path[-1]\n",
        "                current_edges.append((last_node, next_node))\n",
        "\n",
        "                # Add edges for equivalent nodes and their overlaps simultaneously\n",
        "                if next_node in equivalent_nodes_map:\n",
        "                    for equivalent_node in equivalent_nodes_map[next_node]:\n",
        "                        if equivalent_node not in current_path:\n",
        "                            current_path.append(equivalent_node)\n",
        "                        current_edges.append((last_node, equivalent_node))\n",
        "\n",
        "                        # Handle overlapping edges\n",
        "                        if equivalent_node in overlapping_edges:\n",
        "                            for overlap_source in overlapping_edges[equivalent_node]:\n",
        "                                if overlap_source in current_path:\n",
        "                                    current_edges.append((overlap_source, equivalent_node))\n",
        "\n",
        "            # Now add the next node to the path if not already added\n",
        "            if next_node not in current_path:\n",
        "                current_path.append(next_node)\n",
        "\n",
        "            # Redraw with the updated path and edges\n",
        "            clear_output(wait=True)\n",
        "            draw_graph(current_path, current_edges)\n",
        "\n",
        "    def show_all(b):\n",
        "        nonlocal current_path, current_edges, current_path_index\n",
        "\n",
        "        # Highlight the entire path and all overlapping edges\n",
        "        current_path = extended_path.copy()\n",
        "        current_path_index = len(extended_path) - 1\n",
        "        current_edges = []\n",
        "\n",
        "        for i in range(len(current_path) - 1):\n",
        "            current_edges.append((current_path[i], current_path[i + 1]))\n",
        "\n",
        "        # Add overlapping edges for all equivalent nodes\n",
        "        for target, sources in overlapping_edges.items():\n",
        "            for source in sources:\n",
        "                if source in current_path and target in current_path:\n",
        "                    current_edges.append((source, target))\n",
        "\n",
        "        # Redraw with the full path\n",
        "        clear_output(wait=True)\n",
        "        draw_graph(current_path, current_edges)\n",
        "\n",
        "    # Create buttons with compact styling\n",
        "    next_button = widgets.Button(\n",
        "        description=\"Next Node\",\n",
        "        layout=widgets.Layout(width='180px', height='36px'),\n",
        "        button_style='primary'\n",
        "    )\n",
        "    next_button.on_click(next_step)\n",
        "\n",
        "    show_all_button = widgets.Button(\n",
        "        description=\"Show Full Path\",\n",
        "        layout=widgets.Layout(width='180px', height='36px'),\n",
        "        button_style='success'\n",
        "    )\n",
        "    show_all_button.on_click(show_all)\n",
        "\n",
        "    # Center buttons with minimal spacing\n",
        "    button_container = widgets.HBox([next_button, show_all_button],\n",
        "                                    layout=widgets.Layout(\n",
        "                                        display='flex',\n",
        "                                        flex_flow='row',\n",
        "                                        align_items='center',\n",
        "                                        justify_content='center',\n",
        "                                        width='100%',\n",
        "                                        gap='10px'  # Reduced gap between buttons\n",
        "                                    ))\n",
        "\n",
        "    # Apply CSS for compact layout\n",
        "    display(widgets.HTML(\"\"\"\n",
        "    <style>\n",
        "    .output_subarea {\n",
        "        max-width: 100%;\n",
        "        flex-direction: column;\n",
        "        align-items: center;\n",
        "        margin: 0 auto;\n",
        "    }\n",
        "    .widget-hbox {\n",
        "        margin-top: -15px !important;  /* Negative margin to pull buttons closer to plot */\n",
        "    }\n",
        "    .jupyter-widgets {\n",
        "        margin-top: 0 !important;\n",
        "    }\n",
        "    .output_wrapper {\n",
        "        display: flex;\n",
        "        flex-direction: column;\n",
        "        align-items: center;\n",
        "    }\n",
        "    .output_area {\n",
        "        margin-bottom: 0 !important;\n",
        "    }\n",
        "    </style>\n",
        "    \"\"\"))\n",
        "\n",
        "    # Initial plot\n",
        "    draw_graph(current_path, current_edges)"
      ],
      "metadata": {
        "id": "kVWbF6Wvvjtz"
      },
      "execution_count": null,
      "outputs": []
    },
    {
      "cell_type": "markdown",
      "source": [
        "Ήρθε η ώρα να δούμε τα αποτελέσματα."
      ],
      "metadata": {
        "id": "qhdRpyKgvmvR"
      }
    },
    {
      "cell_type": "code",
      "source": [
        "def starting_commands():\n",
        "    global start_node, target_nodes\n",
        "    print(\"Welcome to the path finding tool!\")\n",
        "    print(\"To start, please enter the ID of the starting node:\")\n",
        "    start_node = input()\n",
        "    print(\"Please enter the IDs of the target nodes separated by commas:\")\n",
        "    target_nodes = input().split(\",\")\n",
        "    return start_node, target_nodes\n",
        "\n",
        "\n",
        "input_data = starting_commands()\n",
        "\n",
        "start_node = input_data[0]  # Get this from the widget output\n",
        "target_nodes = input_data[1]  # Get this from the widget output\n",
        "\n",
        "if start_node and target_nodes:\n",
        "    path = find_path_through_nodes(G, start_node, target_nodes)\n",
        "\n",
        "    if path:\n",
        "        print(f\"Found path: {path}\")\n",
        "        plot_interactive(path)\n",
        "    else:\n",
        "        print(\"No valid path found\")"
      ],
      "metadata": {
        "id": "V6QwVBLKvr13"
      },
      "execution_count": null,
      "outputs": []
    },
    {
      "cell_type": "markdown",
      "source": [
        "## Clothoids\n",
        "-------------------------------------------------"
      ],
      "metadata": {
        "id": "3DgGeb5cupDu"
      }
    },
    {
      "cell_type": "code",
      "source": [
        "class VehicleParameters:\n",
        "    def __init__(self):\n",
        "        self.wheelbase = 0.26  # 260 mm\n",
        "        self.max_wheel_angle = math.radians(90)  # 35 degrees in radians\n",
        "\n",
        "def calculate_max_curvature(vehicle_params):\n",
        "    return abs(math.tan(vehicle_params.max_wheel_angle)) / vehicle_params.wheelbase\n",
        "\n",
        "\n",
        "def evaluate_clothoid_constraints(clothoid_list, vehicle_params):\n",
        "    max_curvature = calculate_max_curvature(vehicle_params)\n",
        "    for clothoid in clothoid_list:\n",
        "        if(max(clothoid.KappaStart,clothoid.KappaEnd) > max_curvature):\n",
        "          return False\n",
        "\n",
        "    return True\n",
        "\n",
        "def generate_clothoid_segment(x0, y0, theta0, k0, x1, y1, theta1, k1, vehicle_params):\n",
        "    try_params = [\n",
        "        (1, 0), (2, 0), (3, 10),\n",
        "        (5, 15), (10, 20), (0.5, 1)\n",
        "    ]\n",
        "    for Dmax, dmax in try_params:\n",
        "        segment = SolveG2(x0, y0, theta0, k0, x1, y1, theta1, k1, Dmax, dmax)\n",
        "        is_valid = evaluate_clothoid_constraints(segment, vehicle_params)\n",
        "        if is_valid:\n",
        "            return segment\n",
        "\n",
        "    return None\n",
        "\n",
        "def generate_clothoid_path(path_positions, vehicle_params):\n",
        "    if len(path_positions) < 2:\n",
        "        return []\n",
        "\n",
        "    angles = []\n",
        "    for i in range(len(path_positions)-1):\n",
        "      dx = path_positions[i+1][0]-path_positions[i][0]\n",
        "      dy = path_positions[i+1][1]-path_positions[i][1]\n",
        "      angles.append(math.atan2(dy, dx))\n",
        "\n",
        "    angles.append(angles[-1])\n",
        "\n",
        "    for i in range(len(path_positions)-1):\n",
        "      dx = path_positions[i+1][0]-path_positions[i][0]\n",
        "      dy = path_positions[i+1][1]-path_positions[i][1]\n",
        "      angles.append(math.atan2(dy, dx))\n",
        "\n",
        "    clothoid_segments = []\n",
        "    # Generate clothoid segments for each pair of path positions\n",
        "    for i in range(len(path_positions) - 1):\n",
        "        pos1 = path_positions[i]\n",
        "        theta1 = angles[i]\n",
        "        pos2 = path_positions[i+1]\n",
        "        theta2 = angles[i+1]\n",
        "\n",
        "        segment = generate_clothoid_segment(pos1[0], pos1[1], theta1, 0,\n",
        "                                             pos2[0], pos2[1],\n",
        "                                             theta2, 0, vehicle_params)\n",
        "        if segment is None:\n",
        "            print(f\"Failed to generate segment from {[pos1]} to {pos2}\")\n",
        "            return None\n",
        "\n",
        "        # Add the segment to the list\n",
        "        clothoid_segments.extend(segment)\n",
        "\n",
        "    return clothoid_segments\n",
        "\n",
        "def visualize_clothoid_path(clothoid_segments, path_positions, path_nodes):\n",
        "\n",
        "    plt.figure(figsize=(12, 8))\n",
        "    x_coords = [pos[0] for pos in path_positions]\n",
        "    y_coords = [pos[1] for pos in path_positions]\n",
        "    plt.plot(x_coords, y_coords, 'bo', markersize=10, label='Path Nodes')\n",
        "\n",
        "    for i, (x, y) in enumerate(zip(x_coords, y_coords)):\n",
        "        plt.annotate(\n",
        "            str(path_nodes[i]),\n",
        "            (x, y),\n",
        "            textcoords=\"offset points\",\n",
        "            xytext=(0, 10),  # moves the text 10 points upward\n",
        "            ha='center',\n",
        "            fontsize=10,\n",
        "            fontfamily='serif',\n",
        "            fontstyle='italic'\n",
        "        )\n",
        "\n",
        "    if clothoid_segments:\n",
        "        num_segments = len(clothoid_segments)\n",
        "\n",
        "        colors = cm.rainbow(np.linspace(0, 1, num_segments))\n",
        "\n",
        "        # Create segment labels with node information\n",
        "        segment_labels = []\n",
        "\n",
        "        for i in range(len(path_nodes)-1):\n",
        "            segment_labels.append(f'{path_nodes[i]} → {path_nodes[i+1]}')\n",
        "            segment_labels.append(f'{path_nodes[i]} → {path_nodes[i+1]}')\n",
        "            segment_labels.append(f'{path_nodes[i]} → {path_nodes[i+1]}')\n",
        "\n",
        "\n",
        "        for i, clothoid in enumerate(clothoid_segments):\n",
        "\n",
        "            X, Y = clothoid.SampleXY(100)\n",
        "            if (i%3!=0):\n",
        "                plt.plot(X, Y, color=colors[i], linewidth=2)\n",
        "            else:\n",
        "                plt.plot(X, Y, color=colors[i], linewidth=2, label=f'Segment {segment_labels[i]}')\n",
        "\n",
        "\n",
        "    plt.axis('equal')\n",
        "    plt.grid(True)\n",
        "    plt.legend(ncol=2, loc='upper left', bbox_to_anchor=(1, 1))\n",
        "\n",
        "    plt.title('Clothoid Path')\n",
        "    plt.tight_layout()\n",
        "    plt.show()"
      ],
      "metadata": {
        "id": "3g9Qu7J7DKp2"
      },
      "execution_count": null,
      "outputs": []
    },
    {
      "cell_type": "code",
      "source": [
        "# global variable path\n",
        "if fpath:\n",
        "    # Convert the node IDs to positions\n",
        "    path_positions = [positions[str(node)] for node in path]\n",
        "\n",
        "    # Initialize vehicle parameters\n",
        "    vehicle_params = VehicleParameters()\n",
        "    clothoid_segments = generate_clothoid_path(path_positions, vehicle_params)\n",
        "\n",
        "    if clothoid_segments:\n",
        "        visualize_clothoid_path(clothoid_segments, path_positions, path)\n",
        "    else:\n",
        "        print(\"Failed to generate clothoid path\")"
      ],
      "metadata": {
        "id": "Fl4Tr6YpDt_I"
      },
      "execution_count": null,
      "outputs": []
    },
    {
      "cell_type": "markdown",
      "source": [
        "$$\\text{Ευχαριστούμε πολύ!!}$$"
      ],
      "metadata": {
        "id": "OkQU5p43Ytap"
      }
    }
  ]
}